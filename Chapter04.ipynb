{
 "cells": [
  {
   "cell_type": "markdown",
   "metadata": {},
   "source": [
    "# ***Chapter 04 -- Linear Algebra***"
   ]
  },
  {
   "cell_type": "markdown",
   "metadata": {},
   "source": [
    "## **Vectors** \n",
    "Abstractly, vectors are objects that can be added together to form new\n",
    "vectors and that can be multiplied by scalars (i.e., numbers), also to form\n",
    "new vectors.\n",
    "The simplest from-scratch approach is to represent vectors as lists of\n",
    "numbers. A list of three numbers corresponds to a vector in threedimensional\n",
    "space, and vice versa."
   ]
  },
  {
   "cell_type": "code",
   "execution_count": 1,
   "metadata": {},
   "outputs": [],
   "source": [
    "from typing import List\n",
    "Vector = List[float]\n",
    "height_weight_age = [70, # inches,\n",
    "                    170, # pounds,\n",
    "                    40 ] # years\n",
    "grades = [95, # exam1\n",
    "            80, # exam2\n",
    "            75, # exam3\n",
    "            62 ] # exam4"
   ]
  },
  {
   "cell_type": "code",
   "execution_count": 13,
   "metadata": {},
   "outputs": [],
   "source": [
    "#vector addition\n",
    "def add(v: Vector,w: Vector) -> Vector:\n",
    "    \"\"\"Adds corresponding elements\"\"\"\n",
    "    assert len(v) == len(w) #vectors must be of same length\n",
    "    return [v_i + w_i for v_i,w_i in zip(v,w)]\n",
    "assert add([1,2,3],[4,5,6]) == [5,7,9]"
   ]
  },
  {
   "cell_type": "code",
   "execution_count": 17,
   "metadata": {},
   "outputs": [],
   "source": [
    "#vector subtraction\n",
    "def subtract(v: Vector,w: Vector) -> Vector:\n",
    "    \"\"\"subtracts corresponding elements\"\"\"\n",
    "    assert len(v) == len(w) #vectors must be of same length\n",
    "    return [v_i - w_i for v_i,w_i in zip(v,w)]\n",
    "assert subtract([5,7,9],[4,5,6]) == [1,2,3]"
   ]
  },
  {
   "cell_type": "code",
   "execution_count": 9,
   "metadata": {},
   "outputs": [],
   "source": [
    "#componentwise sum of list of vectors\n",
    "def vector_sum(vectors: List[Vector]) -> Vector:\n",
    "    assert vectors,'No vectors Provided' #check that vector is not empty\n",
    "    num_elements = len(vectors[0])\n",
    "    assert all(len(v) == num_elements for v in vectors),'Different sizes!'\n",
    "    return [sum(vector[i] for vector in vectors)\n",
    "           for i in range(num_elements)]\n",
    "assert vector_sum([[1, 2], [3, 4], [5, 6], [7, 8]]) == [16, 20]"
   ]
  },
  {
   "cell_type": "code",
   "execution_count": 10,
   "metadata": {},
   "outputs": [],
   "source": [
    "#single vector multiplication of a scalar\n",
    "def scalar_multiplication(c: float, v: Vector) -> Vector:\n",
    "    return[c*v_i for v_i in v]\n",
    "assert scalar_multiplication(2,[1,2,3]) == [2,4,6]    "
   ]
  },
  {
   "cell_type": "code",
   "execution_count": 17,
   "metadata": {},
   "outputs": [
    {
     "data": {
      "text/plain": [
       "[3.0, 4.0]"
      ]
     },
     "execution_count": 17,
     "metadata": {},
     "output_type": "execute_result"
    }
   ],
   "source": [
    "#componentwise means of a list of vectors\n",
    "def vector_mean(vectors: List[Vector]) -> Vector:\n",
    "    n=len(vectors)\n",
    "    return scalar_multiplication(1/n,vector_sum(vectors))\n",
    "vector_mean([[1, 2], [3, 4], [5, 6]])"
   ]
  },
  {
   "cell_type": "code",
   "execution_count": 20,
   "metadata": {},
   "outputs": [],
   "source": [
    "def dot(v: Vector, w: Vector) -> float:\n",
    "    \"\"\"Computes v_1 * w_1 + ... + v_n * w_n\"\"\"\n",
    "    assert len(v) == len(w), \"vectors must be same length\"\n",
    "    return sum(v_i * w_i for v_i, w_i in zip(v, w))\n",
    "assert dot([1, 2, 3], [4, 5, 6]) == 32 # 1 * 4 + 2 * 5 + 3 * 6"
   ]
  },
  {
   "cell_type": "code",
   "execution_count": 22,
   "metadata": {},
   "outputs": [],
   "source": [
    "def sum_of_squares(v: Vector) -> float:\n",
    "    \"\"\"Returns v_1 * v_1 + ... + v_n * v_n\"\"\"\n",
    "    return dot(v, v)\n",
    "assert sum_of_squares([1, 2, 3]) == 14 # 1 * 1 + 2 * 2 + 3 * 3"
   ]
  },
  {
   "cell_type": "markdown",
   "metadata": {},
   "source": [
    "# **Matrices** "
   ]
  },
  {
   "cell_type": "code",
   "execution_count": 29,
   "metadata": {},
   "outputs": [],
   "source": [
    "Matrix = List[List[float]]\n",
    "A = [[1, 2, 3], # A has 2 rows and 3 columns\n",
    "    [4, 5, 6]]\n",
    "\n",
    "B = [[1, 2], # B has 3 rows and 2 columns\n",
    "    [3, 4],\n",
    "    [5, 6]]"
   ]
  },
  {
   "cell_type": "code",
   "execution_count": 30,
   "metadata": {},
   "outputs": [
    {
     "name": "stdout",
     "output_type": "stream",
     "text": [
      "No. of Rows 2\n",
      "No. of Columns 3\n"
     ]
    }
   ],
   "source": [
    "print('No. of Rows',len(A))\n",
    "print('No. of Columns',len(A[0]))"
   ]
  },
  {
   "cell_type": "code",
   "execution_count": 32,
   "metadata": {},
   "outputs": [],
   "source": [
    "from typing import Tuple\n",
    "def shape(A:Matrix) -> Tuple[int,int]:\n",
    "    num_rows = len(A)\n",
    "    num_columns = len(A[0]) if A else 0\n",
    "    return num_rows,num_columns\n",
    "assert shape([[1, 2, 3], [4, 5, 6]]) == (2, 3)"
   ]
  },
  {
   "cell_type": "code",
   "execution_count": 33,
   "metadata": {},
   "outputs": [],
   "source": [
    "def get_row(A: Matrix, i: int) -> Vector:\n",
    "    \"\"\"Returns the i-th row of A (as a Vector)\"\"\"\n",
    "    return A[i] # A[i] is already the ith row\n",
    "def get_column(A: Matrix, j: int) -> Vector:\n",
    "    \"\"\"Returns the j-th column of A (as a Vector)\"\"\"\n",
    "    return [A_i[j] # jth element of row A_i\n",
    "    for A_i in A] # for each row A_i"
   ]
  },
  {
   "cell_type": "code",
   "execution_count": 35,
   "metadata": {},
   "outputs": [
    {
     "data": {
      "text/plain": [
       "[1, 2, 3]"
      ]
     },
     "execution_count": 35,
     "metadata": {},
     "output_type": "execute_result"
    }
   ],
   "source": [
    "get_row(A,0)"
   ]
  },
  {
   "cell_type": "code",
   "execution_count": 42,
   "metadata": {},
   "outputs": [
    {
     "data": {
      "text/plain": [
       "[2, 5]"
      ]
     },
     "execution_count": 42,
     "metadata": {},
     "output_type": "execute_result"
    }
   ],
   "source": [
    "get_column(A,1)"
   ]
  },
  {
   "cell_type": "code",
   "execution_count": 43,
   "metadata": {},
   "outputs": [],
   "source": [
    "#creating a matrix given its shape and a function for generating its elements\n",
    "from typing import Callable\n",
    "def make_matrix(num_rows:int,num_cols:int,entry_fn: Callable[[int,int],float]) -> Matrix:\n",
    "    return [[entry_fn(i,j)\n",
    "            for j in range(num_cols)]\n",
    "           for i in range(num_rows)]"
   ]
  },
  {
   "cell_type": "code",
   "execution_count": 50,
   "metadata": {},
   "outputs": [
    {
     "data": {
      "text/plain": [
       "[[1.0, 0.0, 0.0, 0.0],\n",
       " [0.0, 1.0, 0.0, 0.0],\n",
       " [0.0, 0.0, 1.0, 0.0],\n",
       " [0.0, 0.0, 0.0, 1.0]]"
      ]
     },
     "execution_count": 50,
     "metadata": {},
     "output_type": "execute_result"
    }
   ],
   "source": [
    "def kronecker_delta(i: int, j:int) -> float:\n",
    "    return 1.0 if (i == j) else 0.0\n",
    "\n",
    "make_matrix(4, 4, kronecker_delta)"
   ]
  },
  {
   "cell_type": "code",
   "execution_count": 51,
   "metadata": {},
   "outputs": [],
   "source": [
    "def identity_matrix(n: int) -> Matrix:\n",
    "    \"\"\"Returns the n x n identity matrix\"\"\"\n",
    "    return make_matrix(n, n, lambda i, j: 1 if i == j else 0)\n",
    "assert identity_matrix(5) == [[1, 0, 0, 0, 0],\n",
    "[0, 1, 0, 0, 0],\n",
    "[0, 0, 1, 0, 0],\n",
    "[0, 0, 0, 1, 0],\n",
    "[0, 0, 0, 0, 1]]"
   ]
  },
  {
   "cell_type": "code",
   "execution_count": null,
   "metadata": {},
   "outputs": [],
   "source": []
  }
 ],
 "metadata": {
  "kernelspec": {
   "display_name": "Python 3",
   "language": "python",
   "name": "python3"
  },
  "language_info": {
   "codemirror_mode": {
    "name": "ipython",
    "version": 3
   },
   "file_extension": ".py",
   "mimetype": "text/x-python",
   "name": "python",
   "nbconvert_exporter": "python",
   "pygments_lexer": "ipython3",
   "version": "3.7.7"
  }
 },
 "nbformat": 4,
 "nbformat_minor": 4
}
